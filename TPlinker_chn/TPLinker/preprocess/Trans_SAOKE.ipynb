{
 "cells": [
  {
   "cell_type": "code",
   "execution_count": 7,
   "metadata": {},
   "outputs": [],
   "source": [
    "import json\n",
    "from pprint import pprint\n",
    "import re\n",
    "from IPython.core.debugger import set_trace\n",
    "from tqdm import tqdm"
   ]
  },
  {
   "cell_type": "code",
   "execution_count": 8,
   "metadata": {},
   "outputs": [],
   "source": [
    "saoke_path = \"../ori_data/SAOKE_DATA.json\""
   ]
  },
  {
   "cell_type": "code",
   "execution_count": 9,
   "metadata": {},
   "outputs": [],
   "source": [
    "with open(saoke_path, \"r\", encoding = \"utf-8\") as file_in:\n",
    "    saoke_data = [json.loads(line) for line in file_in]"
   ]
  },
  {
   "cell_type": "code",
   "execution_count": 10,
   "metadata": {},
   "outputs": [
    {
     "data": {
      "text/plain": [
       "46930"
      ]
     },
     "execution_count": 10,
     "metadata": {},
     "output_type": "execute_result"
    }
   ],
   "source": [
    "len(saoke_data)"
   ]
  },
  {
   "cell_type": "code",
   "execution_count": 11,
   "metadata": {},
   "outputs": [
    {
     "data": {
      "text/plain": [
       "{'natural': '主要栖息于低山和山麓地带的次生阔叶林、阔叶林和针阔叶混交林中，也出入于人工林和针叶林，夏季在北方有时可上到海拔1700米的中、高山地带，在南方夏季甚至上到海拔3000米左右的森林中，冬季多下到山麓和邻近平原地带的次生阔叶林、人工林和林缘疏林灌丛，有时也进到果园、道旁和地边树丛、房前屋后和庭院中的树上。',\n",
       " 'logic': [{'predicate': '主要栖息于',\n",
       "   'qualifier': '_',\n",
       "   'object': ['[低山|山麓地带]的[次生阔叶林|阔叶林|针阔叶混交林]中'],\n",
       "   'place': '_',\n",
       "   'time': '_',\n",
       "   'subject': '_'},\n",
       "  {'predicate': '也出入于',\n",
       "   'qualifier': '_',\n",
       "   'object': ['[人工林|针叶林]'],\n",
       "   'place': '_',\n",
       "   'time': '_',\n",
       "   'subject': '_'},\n",
       "  {'predicate': '有时可上到',\n",
       "   'qualifier': '_',\n",
       "   'object': ['海拔1700米的[中|高]山地带'],\n",
       "   'place': '在北方',\n",
       "   'time': '夏季',\n",
       "   'subject': '_'},\n",
       "  {'predicate': '甚至上到',\n",
       "   'qualifier': '_',\n",
       "   'object': ['海拔3000米左右的森林中'],\n",
       "   'place': '在南方',\n",
       "   'time': '夏季',\n",
       "   'subject': '_'},\n",
       "  {'predicate': '多下到',\n",
       "   'qualifier': '_',\n",
       "   'object': ['[山麓|邻近平原地带]的[次生阔叶林|人工林|林缘疏林灌丛]'],\n",
       "   'place': '_',\n",
       "   'time': '冬季',\n",
       "   'subject': '_'},\n",
       "  {'predicate': '有时也进到',\n",
       "   'qualifier': '_',\n",
       "   'object': ['[果园|道旁]|[地边树丛|[房前屋后|庭院中]的树上]'],\n",
       "   'place': '_',\n",
       "   'time': '_',\n",
       "   'subject': '_'}]}"
      ]
     },
     "execution_count": 11,
     "metadata": {},
     "output_type": "execute_result"
    }
   ],
   "source": [
    "saoke_data[0]"
   ]
  },
  {
   "cell_type": "code",
   "execution_count": 14,
   "metadata": {},
   "outputs": [
    {
     "name": "stderr",
     "output_type": "stream",
     "text": [
      "\r",
      "0it [00:00, ?it/s]"
     ]
    },
    {
     "name": "stdout",
     "output_type": "stream",
     "text": [
      "> \u001b[0;32m<ipython-input-14-92090a09a4d6>\u001b[0m(87)\u001b[0;36ment_exist\u001b[0;34m()\u001b[0m\n",
      "\u001b[0;32m     85 \u001b[0;31m            \u001b[0;32mif\u001b[0m \u001b[0;32mnot\u001b[0m \u001b[0mexist\u001b[0m\u001b[0;34m:\u001b[0m\u001b[0;34m\u001b[0m\u001b[0;34m\u001b[0m\u001b[0m\n",
      "\u001b[0m\u001b[0;32m     86 \u001b[0;31m                \u001b[0mset_trace\u001b[0m\u001b[0;34m(\u001b[0m\u001b[0;34m)\u001b[0m\u001b[0;34m\u001b[0m\u001b[0;34m\u001b[0m\u001b[0m\n",
      "\u001b[0m\u001b[0;32m---> 87 \u001b[0;31m            \u001b[0;32mreturn\u001b[0m \u001b[0mexist\u001b[0m\u001b[0;34m\u001b[0m\u001b[0;34m\u001b[0m\u001b[0m\n",
      "\u001b[0m\u001b[0;32m     88 \u001b[0;31m\u001b[0;34m\u001b[0m\u001b[0m\n",
      "\u001b[0m\u001b[0;32m     89 \u001b[0;31m        \u001b[0mso_list\u001b[0m \u001b[0;34m=\u001b[0m \u001b[0;34m[\u001b[0m\u001b[0;34m]\u001b[0m\u001b[0;34m\u001b[0m\u001b[0;34m\u001b[0m\u001b[0m\n",
      "\u001b[0m\n",
      "ipdb> entity\n",
      "'ISO9001.{1,10}ISO14001.{1,10}OHSAS18001管理体系认证'\n",
      "ipdb> text\n",
      "'通过了ISO9001（质量）、ISO14001（环境）、OHSAS18001（职业健康与安全）管理体系认证；'\n",
      "ipdb> q\n"
     ]
    },
    {
     "name": "stderr",
     "output_type": "stream",
     "text": [
      "49it [1:11:04, 87.03s/it]\n"
     ]
    },
    {
     "ename": "BdbQuit",
     "evalue": "",
     "output_type": "error",
     "traceback": [
      "\u001b[0;31m---------------------------------------------------------------------------\u001b[0m",
      "\u001b[0;31mBdbQuit\u001b[0m                                   Traceback (most recent call last)",
      "\u001b[0;32m<ipython-input-14-92090a09a4d6>\u001b[0m in \u001b[0;36m<module>\u001b[0;34m\u001b[0m\n\u001b[1;32m     97\u001b[0m             \u001b[0;32mfor\u001b[0m \u001b[0mobj\u001b[0m \u001b[0;32min\u001b[0m \u001b[0mspo\u001b[0m\u001b[0;34m[\u001b[0m\u001b[0;34m\"object\"\u001b[0m\u001b[0;34m]\u001b[0m\u001b[0;34m:\u001b[0m\u001b[0;34m\u001b[0m\u001b[0;34m\u001b[0m\u001b[0m\n\u001b[1;32m     98\u001b[0m                 \u001b[0;32mif\u001b[0m \u001b[0;34m\"|\"\u001b[0m \u001b[0;32min\u001b[0m \u001b[0mobj\u001b[0m\u001b[0;34m:\u001b[0m\u001b[0;34m\u001b[0m\u001b[0;34m\u001b[0m\u001b[0m\n\u001b[0;32m---> 99\u001b[0;31m                     \u001b[0;32mif\u001b[0m \u001b[0;32mnot\u001b[0m \u001b[0ment_exist\u001b[0m\u001b[0;34m(\u001b[0m\u001b[0mobj\u001b[0m\u001b[0;34m)\u001b[0m\u001b[0;34m:\u001b[0m\u001b[0;34m\u001b[0m\u001b[0;34m\u001b[0m\u001b[0m\n\u001b[0m\u001b[1;32m    100\u001b[0m                         \u001b[0mprint\u001b[0m\u001b[0;34m(\u001b[0m\u001b[0mspo\u001b[0m\u001b[0;34m)\u001b[0m\u001b[0;34m\u001b[0m\u001b[0;34m\u001b[0m\u001b[0m\n\u001b[1;32m    101\u001b[0m                         \u001b[0mprint\u001b[0m\u001b[0;34m(\u001b[0m\u001b[0mexample\u001b[0m\u001b[0;34m)\u001b[0m\u001b[0;34m\u001b[0m\u001b[0;34m\u001b[0m\u001b[0m\n",
      "\u001b[0;32m<ipython-input-14-92090a09a4d6>\u001b[0m in \u001b[0;36ment_exist\u001b[0;34m(entity)\u001b[0m\n\u001b[1;32m     85\u001b[0m             \u001b[0;32mif\u001b[0m \u001b[0;32mnot\u001b[0m \u001b[0mexist\u001b[0m\u001b[0;34m:\u001b[0m\u001b[0;34m\u001b[0m\u001b[0;34m\u001b[0m\u001b[0m\n\u001b[1;32m     86\u001b[0m                 \u001b[0mset_trace\u001b[0m\u001b[0;34m(\u001b[0m\u001b[0;34m)\u001b[0m\u001b[0;34m\u001b[0m\u001b[0;34m\u001b[0m\u001b[0m\n\u001b[0;32m---> 87\u001b[0;31m             \u001b[0;32mreturn\u001b[0m \u001b[0mexist\u001b[0m\u001b[0;34m\u001b[0m\u001b[0;34m\u001b[0m\u001b[0m\n\u001b[0m\u001b[1;32m     88\u001b[0m \u001b[0;34m\u001b[0m\u001b[0m\n\u001b[1;32m     89\u001b[0m         \u001b[0mso_list\u001b[0m \u001b[0;34m=\u001b[0m \u001b[0;34m[\u001b[0m\u001b[0;34m]\u001b[0m\u001b[0;34m\u001b[0m\u001b[0;34m\u001b[0m\u001b[0m\n",
      "\u001b[0;32m<ipython-input-14-92090a09a4d6>\u001b[0m in \u001b[0;36ment_exist\u001b[0;34m(entity)\u001b[0m\n\u001b[1;32m     85\u001b[0m             \u001b[0;32mif\u001b[0m \u001b[0;32mnot\u001b[0m \u001b[0mexist\u001b[0m\u001b[0;34m:\u001b[0m\u001b[0;34m\u001b[0m\u001b[0;34m\u001b[0m\u001b[0m\n\u001b[1;32m     86\u001b[0m                 \u001b[0mset_trace\u001b[0m\u001b[0;34m(\u001b[0m\u001b[0;34m)\u001b[0m\u001b[0;34m\u001b[0m\u001b[0;34m\u001b[0m\u001b[0m\n\u001b[0;32m---> 87\u001b[0;31m             \u001b[0;32mreturn\u001b[0m \u001b[0mexist\u001b[0m\u001b[0;34m\u001b[0m\u001b[0;34m\u001b[0m\u001b[0m\n\u001b[0m\u001b[1;32m     88\u001b[0m \u001b[0;34m\u001b[0m\u001b[0m\n\u001b[1;32m     89\u001b[0m         \u001b[0mso_list\u001b[0m \u001b[0;34m=\u001b[0m \u001b[0;34m[\u001b[0m\u001b[0;34m]\u001b[0m\u001b[0;34m\u001b[0m\u001b[0;34m\u001b[0m\u001b[0m\n",
      "\u001b[0;32m~/anaconda3/lib/python3.8/bdb.py\u001b[0m in \u001b[0;36mtrace_dispatch\u001b[0;34m(self, frame, event, arg)\u001b[0m\n\u001b[1;32m     86\u001b[0m             \u001b[0;32mreturn\u001b[0m \u001b[0;31m# None\u001b[0m\u001b[0;34m\u001b[0m\u001b[0;34m\u001b[0m\u001b[0m\n\u001b[1;32m     87\u001b[0m         \u001b[0;32mif\u001b[0m \u001b[0mevent\u001b[0m \u001b[0;34m==\u001b[0m \u001b[0;34m'line'\u001b[0m\u001b[0;34m:\u001b[0m\u001b[0;34m\u001b[0m\u001b[0;34m\u001b[0m\u001b[0m\n\u001b[0;32m---> 88\u001b[0;31m             \u001b[0;32mreturn\u001b[0m \u001b[0mself\u001b[0m\u001b[0;34m.\u001b[0m\u001b[0mdispatch_line\u001b[0m\u001b[0;34m(\u001b[0m\u001b[0mframe\u001b[0m\u001b[0;34m)\u001b[0m\u001b[0;34m\u001b[0m\u001b[0;34m\u001b[0m\u001b[0m\n\u001b[0m\u001b[1;32m     89\u001b[0m         \u001b[0;32mif\u001b[0m \u001b[0mevent\u001b[0m \u001b[0;34m==\u001b[0m \u001b[0;34m'call'\u001b[0m\u001b[0;34m:\u001b[0m\u001b[0;34m\u001b[0m\u001b[0;34m\u001b[0m\u001b[0m\n\u001b[1;32m     90\u001b[0m             \u001b[0;32mreturn\u001b[0m \u001b[0mself\u001b[0m\u001b[0;34m.\u001b[0m\u001b[0mdispatch_call\u001b[0m\u001b[0;34m(\u001b[0m\u001b[0mframe\u001b[0m\u001b[0;34m,\u001b[0m \u001b[0marg\u001b[0m\u001b[0;34m)\u001b[0m\u001b[0;34m\u001b[0m\u001b[0;34m\u001b[0m\u001b[0m\n",
      "\u001b[0;32m~/anaconda3/lib/python3.8/bdb.py\u001b[0m in \u001b[0;36mdispatch_line\u001b[0;34m(self, frame)\u001b[0m\n\u001b[1;32m    111\u001b[0m         \u001b[0;32mif\u001b[0m \u001b[0mself\u001b[0m\u001b[0;34m.\u001b[0m\u001b[0mstop_here\u001b[0m\u001b[0;34m(\u001b[0m\u001b[0mframe\u001b[0m\u001b[0;34m)\u001b[0m \u001b[0;32mor\u001b[0m \u001b[0mself\u001b[0m\u001b[0;34m.\u001b[0m\u001b[0mbreak_here\u001b[0m\u001b[0;34m(\u001b[0m\u001b[0mframe\u001b[0m\u001b[0;34m)\u001b[0m\u001b[0;34m:\u001b[0m\u001b[0;34m\u001b[0m\u001b[0;34m\u001b[0m\u001b[0m\n\u001b[1;32m    112\u001b[0m             \u001b[0mself\u001b[0m\u001b[0;34m.\u001b[0m\u001b[0muser_line\u001b[0m\u001b[0;34m(\u001b[0m\u001b[0mframe\u001b[0m\u001b[0;34m)\u001b[0m\u001b[0;34m\u001b[0m\u001b[0;34m\u001b[0m\u001b[0m\n\u001b[0;32m--> 113\u001b[0;31m             \u001b[0;32mif\u001b[0m \u001b[0mself\u001b[0m\u001b[0;34m.\u001b[0m\u001b[0mquitting\u001b[0m\u001b[0;34m:\u001b[0m \u001b[0;32mraise\u001b[0m \u001b[0mBdbQuit\u001b[0m\u001b[0;34m\u001b[0m\u001b[0;34m\u001b[0m\u001b[0m\n\u001b[0m\u001b[1;32m    114\u001b[0m         \u001b[0;32mreturn\u001b[0m \u001b[0mself\u001b[0m\u001b[0;34m.\u001b[0m\u001b[0mtrace_dispatch\u001b[0m\u001b[0;34m\u001b[0m\u001b[0;34m\u001b[0m\u001b[0m\n\u001b[1;32m    115\u001b[0m \u001b[0;34m\u001b[0m\u001b[0m\n",
      "\u001b[0;31mBdbQuit\u001b[0m: "
     ]
    }
   ],
   "source": [
    "special_predicates = set()\n",
    "count_spo = 0\n",
    "count_joint_po = 0\n",
    "count_no_p = 0\n",
    "count_uncon_p = 0\n",
    "count_normal_p = 0\n",
    "count_spe_p = 0\n",
    "\n",
    "count_normal_spo = 0\n",
    "count_sp = 0\n",
    "count_po = 0\n",
    "\n",
    "for idx, example in tqdm(enumerate(saoke_data)):\n",
    "#     if idx == 3713:\n",
    "#         set_trace()\n",
    "    text = example[\"natural\"]\n",
    "    selected_spo = []\n",
    "    for spo in example[\"logic\"]:\n",
    "        count_spo += 1\n",
    "        \n",
    "        ## 谓词\n",
    "        predicate = spo[\"predicate\"]\n",
    "        \n",
    "        # 统计predicate缺失情况\n",
    "        if predicate == \"_\":\n",
    "            count_no_p += 1\n",
    "#             if spo[\"object\"] == \"_\":\n",
    "#                 print(spo)\n",
    "            \n",
    "        \n",
    "        # 统计特殊预定义关系：ISA、DESC情况\n",
    "        elif re.match(\"[A-Z]+$\", predicate):\n",
    "            count_spe_p += 1\n",
    "            special_predicates.add(predicate)\n",
    "#             if predicate in {'NOT', 'PAM', 'PK', 'VS'}:\n",
    "#                 print(spo)\n",
    "#                 print(text)\n",
    "#                 print(\"---------------------\")\n",
    "        \n",
    "        # 统计非连续P的情况\n",
    "        elif \"X\" in predicate:\n",
    "#             if \"U\" in predicate:\n",
    "#                 print(predicate)\n",
    "            count_uncon_p += 1\n",
    "        \n",
    "        \n",
    "        elif \"X\" not in predicate and not re.match(\"[A-Z]+$\", predicate):\n",
    "            count_normal_p += 1\n",
    "            obj = spo[\"object\"][0]\n",
    "            obj = re.sub(re.escape(\".\"), \"\\.\", obj)\n",
    "            obj = re.sub(re.escape(\"|\"), \".{1,5}\", obj)\n",
    "            obj = re.sub(\"[\\[\\]]\", \"\", obj)\n",
    "            \n",
    "#             set_trace()\n",
    "            # 统计连续普通P紧跟O的情况\n",
    "            po = \"{}{}\".format(predicate, obj)\n",
    "            try: \n",
    "                if re.search(po, text):\n",
    "    #                 print(po)\n",
    "    #                 print(example)\n",
    "    #                 print(\"--------------------\")\n",
    "                    count_joint_po += 1\n",
    "            except Exception as e:\n",
    "                pass\n",
    "            \n",
    "            if spo[\"subject\"] != \"_\" and spo[\"object\"] != \"_\": # 主谓宾\n",
    "                count_normal_spo += 1\n",
    "#                 print(spo)\n",
    "            elif spo[\"subject\"] == \"_\": # 谓宾 （缺失）\n",
    "                count_po += 1\n",
    "#                 print(spo)\n",
    "            elif spo[\"object\"] == \"_\": # 主谓（不及物Vi，或缺失）\n",
    "                count_sp += 1\n",
    "        else:\n",
    "            print(predicate)\n",
    "        \n",
    "        # 主宾/符合结构\n",
    "        \n",
    "        def ent_exist(entity):\n",
    "            entity = re.sub(re.escape(\".\"), \"\\.\", entity)\n",
    "            entity = re.sub(re.escape(\"|\"), \".{1,10}\", entity)\n",
    "            entity = re.sub(\"[\\[\\]]\", \"\", entity)\n",
    "            \n",
    "            exist = re.search(entity, text)\n",
    "            if not exist:\n",
    "                set_trace()\n",
    "            return exist\n",
    "        \n",
    "        so_list = []\n",
    "        if \"|\" in spo[\"subject\"]:\n",
    "            if not ent_exist(spo[\"subject\"]):\n",
    "                \n",
    "                print(spo)\n",
    "                print(example)\n",
    "                print(\"--------------\")\n",
    "        elif type(spo[\"object\"]) is list and len(spo[\"object\"]) > 0:\n",
    "            for obj in spo[\"object\"]:\n",
    "                if \"|\" in obj:\n",
    "                    if not ent_exist(obj):\n",
    "                        print(spo)\n",
    "                        print(example)\n",
    "                        print(\"----------------\")\n",
    "print(\"joint_po: {}\".format(count_joint_po / count_spo))\n",
    "print(\"joint_po / normal_p: {}\".format(count_joint_po / count_normal_p))\n",
    "print(\"no_p: {}\".format(count_no_p / count_spo))\n",
    "print(\"uncon_p: {}\".format(count_uncon_p / count_spo))\n",
    "print(\"normal_p: {}\".format(count_normal_p / count_spo))\n",
    "print(\"special_p: {}\".format(count_spe_p / count_spo))\n",
    "print(\"joint_po + uncon_p: {}\".format((count_joint_po + count_uncon_p) / count_spo))\n",
    "\n",
    "print(\"-------------------\")\n",
    "print(\"count_sp / count_normal_p: {}/{}\".format(count_sp, count_normal_p))\n",
    "print(\"count_po / count_normal_p: {}/{}\".format(count_po, count_normal_p))\n",
    "print(\"count_normal_spo / count_normal_p: {}/{}\".format(count_normal_spo, count_normal_p))\n",
    "#             selected_spo.append(spo)\n",
    "#     print(example[\"natural\"])\n",
    "#     pprint(selected_spo)"
   ]
  },
  {
   "cell_type": "code",
   "execution_count": null,
   "metadata": {},
   "outputs": [],
   "source": [
    "# {'BIRTH', 'DEATH', 'DESC', 'IN', 'ISA', 'NOT', 'PAM', 'PK', 'VS'}\n",
    "special_predicates\n",
    "# NOT 只有两例 去掉\n",
    "# PAM、PK、VS都是原文中的谓词"
   ]
  },
  {
   "cell_type": "code",
   "execution_count": null,
   "metadata": {},
   "outputs": [],
   "source": [
    "%debug"
   ]
  }
 ],
 "metadata": {
  "kernelspec": {
   "display_name": "Python 3",
   "language": "python",
   "name": "python3"
  },
  "language_info": {
   "codemirror_mode": {
    "name": "ipython",
    "version": 3
   },
   "file_extension": ".py",
   "mimetype": "text/x-python",
   "name": "python",
   "nbconvert_exporter": "python",
   "pygments_lexer": "ipython3",
   "version": "3.8.3"
  }
 },
 "nbformat": 4,
 "nbformat_minor": 4
}
