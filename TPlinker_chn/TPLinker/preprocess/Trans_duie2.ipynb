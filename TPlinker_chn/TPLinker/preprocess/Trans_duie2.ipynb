{
 "cells": [
  {
   "cell_type": "code",
   "execution_count": 1,
   "metadata": {},
   "outputs": [],
   "source": [
    "import json\n",
    "import os\n",
    "from tqdm import tqdm\n",
    "from IPython.core.debugger import set_trace\n",
    "from transformers import AutoModel, BertTokenizerFast\n",
    "import re\n",
    "import copy"
   ]
  },
  {
   "cell_type": "code",
   "execution_count": 2,
   "metadata": {},
   "outputs": [],
   "source": [
    "data_path = \"../extra_data/duie2/\"\n",
    "save_path = \"../ori_data/duie2/\"\n",
    "train_data_path = data_path + \"train.json\"\n",
    "dev_data_path = data_path + \"dev.json\"\n",
    "test_data_path = data_path + \"test.json\""
   ]
  },
  {
   "cell_type": "code",
   "execution_count": 3,
   "metadata": {},
   "outputs": [],
   "source": [
    "def load_data(path):\n",
    "    with open(path, \"r\", encoding = \"utf-8\") as file_in:\n",
    "        data = [json.loads(line) for line in tqdm(file_in)]\n",
    "    return data"
   ]
  },
  {
   "cell_type": "code",
   "execution_count": 4,
   "metadata": {},
   "outputs": [
    {
     "name": "stderr",
     "output_type": "stream",
     "text": [
      "171293it [00:03, 50668.91it/s]\n",
      "20674it [00:00, 69423.03it/s]\n",
      "101311it [00:00, 243096.14it/s]\n"
     ]
    }
   ],
   "source": [
    "train_data = load_data(train_data_path)\n",
    "dev_data = load_data(dev_data_path)\n",
    "test_data = load_data(test_data_path)"
   ]
  },
  {
   "cell_type": "code",
   "execution_count": 5,
   "metadata": {},
   "outputs": [],
   "source": [
    "model_path = \"../../pretrained_models/chinese-roberta-wwm-ext\"\n",
    "tokenizer = BertTokenizerFast.from_pretrained(model_path, add_special_tokens = False, do_lower_case = False)"
   ]
  },
  {
   "cell_type": "code",
   "execution_count": 6,
   "metadata": {},
   "outputs": [],
   "source": [
    "def clean_text(text):\n",
    "    text = re.sub(\"[\\U000e0000-\\U000e0010]+\", \"\", text)\n",
    "    return text\n",
    "\n",
    "def clean_data(data, is_pred = False):\n",
    "    total_spo_droped_num, total_droped_sample_num = 0, 0 \n",
    "    bad_samples = []\n",
    "    for sample in tqdm(data):\n",
    "        # strip whitespaces\n",
    "        sample[\"text\"] = clean_text(sample[\"text\"].strip())\n",
    "        if is_pred:\n",
    "            continue\n",
    "            \n",
    "        entities = []\n",
    "        # strip\n",
    "        for spo in sample[\"spo_list\"]:\n",
    "            spo[\"subject\"] = spo[\"subject\"].strip()\n",
    "            spo[\"subject_type\"] = spo[\"subject_type\"].strip()  \n",
    "            spo[\"predicate\"] = spo[\"predicate\"].strip()\n",
    "            entities.append(spo[\"subject\"])\n",
    "            \n",
    "            for k, v in spo[\"object\"].items():\n",
    "                spo[\"object\"][k] = v.strip()\n",
    "                entities.append(v.strip())\n",
    "                \n",
    "            for k, v in spo[\"object_type\"].items():\n",
    "                spo[\"object_type\"][k] = v.strip()\n",
    "        \n",
    "        # guarantee entities can be tokenized correctly: add whitespace around the entities\n",
    "        entities = sorted(entities, key = lambda x: len(x), reverse = True)\n",
    "        reg_pattern = \"|\".join([re.escape(ent) for ent in entities if ent != \"\"])\n",
    "#         sample[\"text\"] = re.sub(\"({})\".format(reg_pattern), r\" \\1 \", sample[\"text\"]) # 将entity周围都用空格隔开\n",
    "        \n",
    "        # drop bad spo\n",
    "        text_tokens_join_str = \" \" + \" \".join(tokenizer.tokenize(sample[\"text\"])) + \" \"\n",
    "        for spo in sample[\"spo_list\"]:\n",
    "            bad_spo = False                    \n",
    "            for key, ent in list(spo[\"object\"].items()):\n",
    "                # remove spo with empty subj or obj\n",
    "                # remove spo that does not match text tokens\n",
    "                if ent == \"\" or \" \" + \" \".join(tokenizer.tokenize(ent)) + \" \" not in text_tokens_join_str:\n",
    "                    if key != \"@value\":\n",
    "                        del spo[\"object\"][key]\n",
    "                    else:\n",
    "                        bad_spo = True\n",
    "                        break\n",
    "                        \n",
    "            subj = spo[\"subject\"]\n",
    "            if subj == \"\" or \" \" + \" \".join(tokenizer.tokenize(subj)) + \" \" not in text_tokens_join_str:\n",
    "                bad_spo = True\n",
    "                \n",
    "            if bad_spo:\n",
    "                total_spo_droped_num += 1\n",
    "#                 set_trace()\n",
    "                bad_samples.append((spo, copy.deepcopy(sample)))\n",
    "                sample[\"spo_list\"].remove(spo)\n",
    "                break\n",
    "\n",
    "        # remove sample without spo\n",
    "        if len(sample[\"spo_list\"]) == 0:\n",
    "            data.remove(sample)\n",
    "            total_droped_sample_num += 1\n",
    "    return total_spo_droped_num, total_droped_sample_num, bad_samples"
   ]
  },
  {
   "cell_type": "code",
   "execution_count": 7,
   "metadata": {},
   "outputs": [
    {
     "name": "stderr",
     "output_type": "stream",
     "text": [
      "100%|█████████▉| 171227/171293 [00:35<00:00, 4784.97it/s]\n",
      "100%|█████████▉| 20665/20674 [00:03<00:00, 5265.56it/s]\n"
     ]
    }
   ],
   "source": [
    "train_clean_log = clean_data(train_data)\n",
    "dev_clean_log = clean_data(dev_data)"
   ]
  },
  {
   "cell_type": "code",
   "execution_count": 8,
   "metadata": {},
   "outputs": [
    {
     "name": "stdout",
     "output_type": "stream",
     "text": [
      "train, spo_dropped_num: 112, example_dropped_num: 66\n",
      "dev, spo_dropped_num: 14, example_dropped_num: 9\n"
     ]
    }
   ],
   "source": [
    "print(\"train, spo_dropped_num: {}, example_dropped_num: {}\".format(train_clean_log[0], train_clean_log[1]))\n",
    "print(\"dev, spo_dropped_num: {}, example_dropped_num: {}\".format(dev_clean_log[0], dev_clean_log[1]))"
   ]
  },
  {
   "cell_type": "code",
   "execution_count": 9,
   "metadata": {},
   "outputs": [],
   "source": [
    "def trans2tplinker_style(data, data_type):\n",
    "    normal_data = []\n",
    "    for idx, example in tqdm(enumerate(data), desc = \"transforming to tplinker style\"):\n",
    "        normal_example = {\n",
    "            \"id\": \"{}_{}\".format(data_type, idx),\n",
    "            \"text\": example[\"text\"]\n",
    "        }\n",
    "        rel_list, ent_list = [], []\n",
    "        for spo in example[\"spo_list\"]:\n",
    "            # relation\n",
    "            rel_list.append({\n",
    "                \"subject\": spo[\"subject\"],\n",
    "                \"object\": spo[\"object\"][\"@value\"],\n",
    "                \"predicate\": spo[\"predicate\"]\n",
    "            })\n",
    "            for k, val in spo[\"object\"].items():\n",
    "                if k != \"@value\":\n",
    "                    rel = {\n",
    "                        \"subject\": spo[\"object\"][\"@value\"],\n",
    "                        \"object\": spo[\"object\"][k],\n",
    "                        \"predicate\": k\n",
    "                    }\n",
    "#                     set_trace()\n",
    "                    rel_list.append(rel)\n",
    "                    \n",
    "            # entity\n",
    "            ent_list.append({\n",
    "                \"text\": spo[\"subject\"],\n",
    "                \"type\": spo[\"subject_type\"],\n",
    "            })\n",
    "            for k, val in spo[\"object\"].items():\n",
    "                ent_list.append({\n",
    "                    \"text\": val,\n",
    "                    \"type\": spo[\"object_type\"][k],\n",
    "                })\n",
    "        normal_example[\"relation_list\"] = rel_list\n",
    "        normal_example[\"entity_list\"] = ent_list\n",
    "        normal_data.append(normal_example)\n",
    "    return normal_data"
   ]
  },
  {
   "cell_type": "code",
   "execution_count": 12,
   "metadata": {},
   "outputs": [
    {
     "name": "stderr",
     "output_type": "stream",
     "text": [
      "transforming to tplinker style: 171227it [00:02, 70107.53it/s]\n",
      "transforming to tplinker style: 20665it [00:00, 167342.33it/s]\n"
     ]
    }
   ],
   "source": [
    "normal_train_data = trans2tplinker_style(train_data, \"train\")\n",
    "normal_dev_data = trans2tplinker_style(dev_data, \"valid\")\n",
    "for idx, example in enumerate(test_data):\n",
    "    example[\"id\"] = \"{}_{}\".format(\"test\", idx)"
   ]
  },
  {
   "cell_type": "code",
   "execution_count": null,
   "metadata": {},
   "outputs": [],
   "source": [
    "# for example in normal_train_data:\n",
    "#     for spo in example[\"relation_list\"]:\n",
    "#         if spo[\"predicate\"] == \"inWork\":\n",
    "#             print(example)\n",
    "#             print(\"---------------\")"
   ]
  },
  {
   "cell_type": "code",
   "execution_count": 15,
   "metadata": {},
   "outputs": [],
   "source": [
    "# save\n",
    "if not os.path.exists(save_path):\n",
    "    os.makedirs(save_path)\n",
    "\n",
    "json.dump(normal_train_data, open(save_path + \"train_data.json\", \"w\", encoding = \"utf-8\"))\n",
    "json.dump(normal_dev_data, open(save_path + \"valid_data.json\", \"w\", encoding = \"utf-8\"))\n",
    "json.dump(test_data, open(save_path + \"test_data.json\", \"w\", encoding = \"utf-8\"))"
   ]
  },
  {
   "cell_type": "code",
   "execution_count": 17,
   "metadata": {},
   "outputs": [
    {
     "data": {
      "text/plain": [
       "{'id': 'train_0',\n",
       " 'text': '《邪少兵王》是冰火未央写的网络小说连载于旗峰天下',\n",
       " 'relation_list': [{'subject': '邪少兵王', 'object': '冰火未央', 'predicate': '作者'}],\n",
       " 'entity_list': [{'text': '邪少兵王', 'type': '图书作品'},\n",
       "  {'text': '冰火未央', 'type': '人物'}]}"
      ]
     },
     "execution_count": 17,
     "metadata": {},
     "output_type": "execute_result"
    }
   ],
   "source": [
    "normal_train_data[0]"
   ]
  },
  {
   "cell_type": "code",
   "execution_count": 18,
   "metadata": {},
   "outputs": [
    {
     "name": "stdout",
     "output_type": "stream",
     "text": [
      "{'text': '国内出版的东山魁夷散文作品有花山文艺出版社2001年《东山魁夷の世界》系列14本散文集，包括《与风景对话》、《听泉》、《我的窗》《探索日本之美》、《京洛四季——美之旅》、《通往唐招提寺之路》、《六只彩笔》、《中国纪行——水墨画的世界》、《德国纪行——马车啊，慢些走》、《奥地利纪行》、《北欧纪行》、《美与游历》、《我的留学时代》、《旅之环——自传抄》等', 'spo_list': [{'predicate': '作者', 'object_type': {'@value': '人物'}, 'subject_type': '图书作品', 'object': {'@value': '东山魁夷'}, 'subject': '北欧纪行'}, {'predicate': '作者', 'object_type': {'@value': '人物'}, 'subject_type': '图书作品', 'object': {'@value': '东山魁夷'}, 'subject': '探索日本之美'}, {'predicate': '作者', 'object_type': {'@value': '人物'}, 'subject_type': '图书作品', 'object': {'@value': '东山魁夷'}, 'subject': '京洛四季'}]}\n",
      "{'text': '1990年2月上映的《望夫成龙》，在现在看来，是周星驰一部比较奇怪的电影，乍看觉得比较文艺，但细看也是能找到一丁点儿“无厘头”的成分 \\u3000\\u3000\\xa0 \\u3000\\u3000关于与周星驰在《望夫成龙》里的合作，吴君如曾经在自传书《减肥血泪史》里透露了她在那时曾经暗恋过周星驰：“拍戏十余年来，让我假戏真做的对手只有周星驰 日夜相对，人非草木谁能无情，尤其他这样风趣这样英伟潇洒', 'spo_list': [{'predicate': '上映时间', 'object_type': {'@value': 'Date'}, 'subject_type': '影视作品', 'object': {'@value': '1990年2月'}, 'subject': '望夫成龙'}]}\n",
      "{'text': '《命运：文在寅自传》作者：[韩]文在寅译者：王萌出版时间：2017.12出版社：江苏凤凰文艺出版社编者按：3月5日，朝鲜最高领导人金正恩会见当天抵朝的韩国特使团，韩国总统文在寅的特使、青瓦台国家安保室长郑义溶向金转交了文的亲笔信', 'spo_list': [{'predicate': '国籍', 'object_type': {'@value': '国家'}, 'subject_type': '人物', 'object': {'@value': '朝鲜'}, 'subject': '金正恩'}, {'predicate': '国籍', 'object_type': {'@value': '国家'}, 'subject_type': '人物', 'object': {'@value': '韩国'}, 'subject': '文在寅'}, {'predicate': '作者', 'object_type': {'@value': '人物'}, 'subject_type': '图书作品', 'object': {'@value': '文在寅'}, 'subject': '命运：文在寅自传'}]}\n",
      "{'text': '1984年玛格丽特·杜拉斯写出了自传体性质的小说《情人》并凭此获法国著名的龚古尔文学奖，其时，她已70岁了', 'spo_list': [{'predicate': '获奖', 'object_type': {'inWork': '作品', '@value': '奖项'}, 'subject_type': '娱乐人物', 'object': {'inWork': '情人', '@value': '龚古尔文学奖'}, 'subject': '玛格丽特·杜拉斯'}, {'predicate': '作者', 'object_type': {'@value': '人物'}, 'subject_type': '图书作品', 'object': {'@value': '玛格丽特·杜拉斯'}, 'subject': '情人'}]}\n",
      "{'text': '《喜剧之王》这部周星驰自传体性质的喜剧无疑是周星驰最好的电影之一，是周星驰电影的笑点和泪点融合的最好的一部，豆瓣评分8.5', 'spo_list': [{'predicate': '导演', 'object_type': {'@value': '人物'}, 'subject_type': '影视作品', 'object': {'@value': '周星驰'}, 'subject': '喜剧之王'}]}\n",
      "{'text': '内容介绍《我的工作和生活:福特自传》为亨利·福特的自传，内容包括：一个随着想法而来的事业、经济实战中的商业理念、机器与工人、产品可以制造得更便宜、贫穷不是因为没有美元、一段铁路带来的启示等', 'spo_list': [{'predicate': '作者', 'object_type': {'@value': '人物'}, 'subject_type': '图书作品', 'object': {'@value': '亨利·福特'}, 'subject': '我的工作和生活'}]}\n",
      "{'text': '值得注意的是，颁奖典礼的评审团成员很多都来自传统网剧领域，包括《万万没想到》导演叫兽易小星、《白夜追凶》监制五百等', 'spo_list': [{'predicate': '导演', 'object_type': {'@value': '人物'}, 'subject_type': '影视作品', 'object': {'@value': '易小星'}, 'subject': '万万没想到'}]}\n",
      "{'text': '沈从文 《从文自传·我上许多课仍然不放下那一本大书》：“由于赌术精明，我不大担心输赢', 'spo_list': [{'predicate': '作者', 'object_type': {'@value': '人物'}, 'subject_type': '图书作品', 'object': {'@value': '沈从文'}, 'subject': '从文自传·我上许多课仍然不放下那一本大书'}]}\n",
      "{'text': '多给自己心理暗示看过周星驰自传电影《喜剧之王》的人都知道，星爷在成名之前，就是这样的讨生活', 'spo_list': [{'predicate': '主演', 'object_type': {'@value': '人物'}, 'subject_type': '影视作品', 'object': {'@value': '周星驰'}, 'subject': '喜剧之王'}]}\n",
      "{'text': '新书《我爸爸的爸爸的爸爸》是他的自传体小说，讲述了其曾祖父傅志清、祖父傅天正、父亲傅腾龙与自己四代人的传奇故事', 'spo_list': [{'predicate': '父亲', 'object_type': {'@value': '人物'}, 'subject_type': '人物', 'object': {'@value': '傅天正'}, 'subject': '傅腾龙'}]}\n",
      "{'text': '” 沈从文《从文自传·我上许多课仍然不放下那一本大书》：“即或家中明知我下河洗了澡，只要不是当面被捉，家中可不能用爬搔皮肤方法决定我的应否受罚了', 'spo_list': [{'predicate': '作者', 'object_type': {'@value': '人物'}, 'subject_type': '图书作品', 'object': {'@value': '沈从文'}, 'subject': '从文自传·我上许多课仍然不放下那一本大书'}]}\n",
      "{'text': '内容介绍《杨洁自述：我的九九八十一难》是82版《西游记》导演杨洁女士年届85岁高龄时完成的一部人生自传，讲述了她这一生的坎坷经历，独家披露了她从一个懵懂少年成长为一代著名导演的历程', 'spo_list': [{'predicate': '作者', 'object_type': {'@value': '人物'}, 'subject_type': '图书作品', 'object': {'@value': '杨洁'}, 'subject': '杨洁自述：我的九九八十一难'}, {'predicate': '导演', 'object_type': {'@value': '人物'}, 'subject_type': '影视作品', 'object': {'@value': '杨洁'}, 'subject': '西游记'}]}\n",
      "{'text': '《从海底出击》是由德国导演沃尔夫冈·彼德森执导，尤尔根·普洛斯诺主演的战争剧情电影，改编自战地记者布赫海姆的同名自传', 'spo_list': [{'predicate': '主演', 'object_type': {'@value': '人物'}, 'subject_type': '影视作品', 'object': {'@value': '尤尔根·普洛斯诺'}, 'subject': '从海底出击'}, {'predicate': '导演', 'object_type': {'@value': '人物'}, 'subject_type': '影视作品', 'object': {'@value': '沃尔夫冈·彼德森'}, 'subject': '从海底出击'}]}\n",
      "{'text': '社科历史类图书4《李敖自传》李敖著人民文学出版社▌推荐理由本书为李敖八十岁时写的自传，台湾版书名为《李敖风流自传》，中国大陆首次出版', 'spo_list': [{'predicate': '作者', 'object_type': {'@value': '人物'}, 'subject_type': '图书作品', 'object': {'@value': '李敖'}, 'subject': '李敖自传'}]}\n",
      "{'text': '”书作者是书作者是艾丽斯·西伯德，高中时我没买这本书，有个原因也是我看到了这句话和书的介绍，还有书扉页上说她“毕业于加州大学，1999年曾将自己大学时代遭受强暴的经历写成自传出版，被媒体誉为“最具潜力的作家”', 'spo_list': [{'predicate': '毕业院校', 'object_type': {'@value': '学校'}, 'subject_type': '人物', 'object': {'@value': '加州大学'}, 'subject': '艾丽斯·西伯德'}]}\n",
      "{'text': '1925年2月，俞平伯发表了《〔红楼梦辨〕的修正》一文，指出：说《红楼梦》是自叙传的文学或小说则可，说是作者的自传或小史则不可', 'spo_list': [{'predicate': '作者', 'object_type': {'@value': '人物'}, 'subject_type': '图书作品', 'object': {'@value': '俞平伯'}, 'subject': '〔红楼梦辨〕的修正'}]}\n",
      "{'text': '哪怕是被认为周星驰自传的《喜剧之王》，导演也是由周星驰和李力持一起联合', 'spo_list': [{'predicate': '导演', 'object_type': {'@value': '人物'}, 'subject_type': '影视作品', 'object': {'@value': '李力持'}, 'subject': '喜剧之王'}, {'predicate': '导演', 'object_type': {'@value': '人物'}, 'subject_type': '影视作品', 'object': {'@value': '周星驰'}, 'subject': '喜剧之王'}]}\n",
      "{'text': '原标题：《李敖自传》\\u3000\\u3000作者：李敖\\u3000\\u3000出版：人民文学出版社2018年版\\u3000\\u3000他独坐书斋、独步文坛、独立抗争', 'spo_list': [{'predicate': '作者', 'object_type': {'@value': '人物'}, 'subject_type': '图书作品', 'object': {'@value': '李敖'}, 'subject': '李敖自传'}]}\n",
      "{'text': '而庄士敦则是傅仪的英文老师(先后毕业于爱丁堡大学、牛津大学、获文学硕士学位）在紫禁城里面教导溥仪学习英语、数学、地理等西方学说，这个时候溥仪的英语已经非常流利了，在溥仪的自传里面溥仪甚至可以将四书五经翻译成英文', 'spo_list': [{'predicate': '毕业院校', 'object_type': {'@value': '学校'}, 'subject_type': '人物', 'object': {'@value': '爱丁堡大学'}, 'subject': '庄士敦'}, {'predicate': '毕业院校', 'object_type': {'@value': '学校'}, 'subject_type': '人物', 'object': {'@value': '牛津大学'}, 'subject': '庄士敦'}]}\n",
      "{'text': '九把刀执导的自传式电影《那些年，我们一起追的女孩》，上映5天票房冲破1.2亿元，男女主角柯震东、陈妍希昨吃冰庆功，互喂狠有fu，还上演雨中调情坐大腿，但女大男8岁，女生猛亏男生「智商低」，男生则反击女生「太笨」，她笑说：「他就是弟弟，我喜欢成熟一点的 」《那些年》票房创佳绩，陈妍希昨忍不住欢呼：「就像中乐透一样', 'spo_list': [{'predicate': '票房', 'object_type': {'@value': 'Number'}, 'subject_type': '影视作品', 'object': {'@value': '1.2亿元'}, 'subject': '那些年，我们一起追的女孩'}]}\n",
      "{'text': '本书收录了文学与音乐的双翅共振——余华的散文随笔创作、灵魂朝圣与精神历险——读史铁生《病隙碎笔》、文学经典的别样解读——读书笔记集《残雪散文》读后、艺术殿堂的人文之旅——读“名家漫步艺术殿堂”丛书、回归文学研究的诗性本质——读曹文轩的理论专著《小说门》、繁华落尽见真纯——读周一良自传《毕竟是书生》等', 'spo_list': [{'predicate': '作者', 'object_type': {'@value': '人物'}, 'subject_type': '图书作品', 'object': {'@value': '周一良'}, 'subject': '毕竟是书生'}, {'predicate': '作者', 'object_type': {'@value': '人物'}, 'subject_type': '图书作品', 'object': {'@value': '史铁生'}, 'subject': '病隙碎笔'}, {'predicate': '作者', 'object_type': {'@value': '人物'}, 'subject_type': '图书作品', 'object': {'@value': '曹文轩'}, 'subject': '小说门'}]}\n",
      "{'text': '《抉择时刻乔治·沃克·布什自传》是2011年8月中信出版社出版的图书，作者是（美）布什', 'spo_list': [{'predicate': '作者', 'object_type': {'@value': '人物'}, 'subject_type': '图书作品', 'object': {'@value': '乔治·沃克·布什'}, 'subject': '抉择时刻'}]}\n",
      "{'text': '7《我的职业是小说家》作者： [日] 村上春树出版社：南海出版公司译者： 施小炜出版年： 2017-1推荐指数：★★★★豆瓣指数：8.3分类号： I313.65/182馆藏地：市馆_24H自助馆【内容简介】《我的职业是小说家》是村上春树首部自传性作品，历时六年完成', 'spo_list': [{'predicate': '作者', 'object_type': {'@value': '人物'}, 'subject_type': '图书作品', 'object': {'@value': '村上春树'}, 'subject': '我的职业是小说家'}]}\n",
      "{'text': '图书\\xa0>\\xa0传记\\xa0>\\xa0女性风采\\xa0 销售排行榜 墨迹(曾子墨自述，王朔、白岩松推荐) 幸福深处(真性情宋丹丹深情自述) 勇敢抉择：卡莉·菲奥莉娜自传（2007年最受关注的一部传记） 假如给我三天光明(海伦·凯勒自传插图珍藏本) 中国淑女——羽西 武则天正传 说慈禧 陈鲁豫新版心相约 玫琳凯自传 媛来是你（高娅媛著）', 'spo_list': [{'predicate': '作者', 'object_type': {'@value': '人物'}, 'subject_type': '图书作品', 'object': {'@value': '海伦·凯勒'}, 'subject': '假如给我三天光明'}, {'predicate': '作者', 'object_type': {'@value': '人物'}, 'subject_type': '图书作品', 'object': {'@value': '卡莉·菲奥莉娜'}, 'subject': '勇敢抉择'}, {'predicate': '作者', 'object_type': {'@value': '人物'}, 'subject_type': '图书作品', 'object': {'@value': '宋丹丹'}, 'subject': '幸福深处'}, {'predicate': '作者', 'object_type': {'@value': '人物'}, 'subject_type': '图书作品', 'object': {'@value': '曾子墨'}, 'subject': '墨迹'}, {'predicate': '作者', 'object_type': {'@value': '人物'}, 'subject_type': '图书作品', 'object': {'@value': '高娅媛'}, 'subject': '媛来是你'}]}\n",
      "{'text': '当时举办的“金秒奖”颁奖典礼，评审团背景均来自传统网剧领域，包括《万万没想到》导演叫兽易小星、《白夜追凶》监制五百等', 'spo_list': [{'predicate': '导演', 'object_type': {'@value': '人物'}, 'subject_type': '影视作品', 'object': {'@value': '易小星'}, 'subject': '万万没想到'}]}\n",
      "{'text': '石国鹏1.《假如给我三天光明：海伦· 凯勒自传》 【美】海伦·凯勒 著 华文出版社 2004 年版2 .《名人传》 【法】罗曼· 罗兰 著 译林出版社 2001 年版', 'spo_list': [{'predicate': '作者', 'object_type': {'@value': '人物'}, 'subject_type': '图书作品', 'object': {'@value': '海伦·凯勒'}, 'subject': '假如给我三天光明'}]}\n",
      "{'text': '1999年，周星驰自导自演了带有自传性质的喜剧片《喜剧之王》', 'spo_list': [{'predicate': '上映时间', 'object_type': {'@value': 'Date'}, 'subject_type': '影视作品', 'object': {'@value': '1999年'}, 'subject': '喜剧之王'}, {'predicate': '主演', 'object_type': {'@value': '人物'}, 'subject_type': '影视作品', 'object': {'@value': '周星驰'}, 'subject': '喜剧之王'}, {'predicate': '导演', 'object_type': {'@value': '人物'}, 'subject_type': '影视作品', 'object': {'@value': '周星驰'}, 'subject': '喜剧之王'}]}\n",
      "{'text': '《每天读一点·世界动物文学名著:美丽的乔》是美国著名女作家玛格丽特·桑德斯的代表作，也是一本世界名著，它用第一人称动物自传的方式，通过一只狗的自述，活灵活现地讲述了一只名叫美丽的乔的小狗的故事', 'spo_list': [{'predicate': '作者', 'object_type': {'@value': '人物'}, 'subject_type': '图书作品', 'object': {'@value': '桑德斯'}, 'subject': '每天读一点·世界动物文学名著:美丽的乔'}]}\n",
      "{'text': '《杨洁自述：我的九九八十一难》是82版《西游记》导演杨洁首部自传，由《西游记》剧组全体人员倾力推荐', 'spo_list': [{'predicate': '作者', 'object_type': {'@value': '人物'}, 'subject_type': '图书作品', 'object': {'@value': '杨洁'}, 'subject': '杨洁自述：我的九九八十一难'}, {'predicate': '编剧', 'object_type': {'@value': '人物'}, 'subject_type': '影视作品', 'object': {'@value': '杨洁'}, 'subject': '西游记'}, {'predicate': '导演', 'object_type': {'@value': '人物'}, 'subject_type': '影视作品', 'object': {'@value': '杨洁'}, 'subject': '西游记'}]}\n",
      "{'text': '本片主要的底本资源采自所罗门·伏尔科夫那本争议颇大的“肖斯塔科维奇口述自传”《见证1》，全片以作曲家独白形式展开，契合原书的“口述”特征', 'spo_list': [{'predicate': '作者', 'object_type': {'@value': '人物'}, 'subject_type': '图书作品', 'object': {'@value': '所罗门·伏尔科夫'}, 'subject': '见证1'}]}\n",
      "{'text': '介绍《浮生六记》是清朝长洲（今江苏苏州）沈复（字三白，号梅逸）著于嘉庆十三年（1808年）的自传体小说', 'spo_list': [{'predicate': '朝代', 'object_type': {'@value': 'Text'}, 'subject_type': '历史人物', 'object': {'@value': '清朝'}, 'subject': '沈复'}, {'predicate': '号', 'object_type': {'@value': 'Text'}, 'subject_type': '历史人物', 'object': {'@value': '梅逸'}, 'subject': '沈复'}]}\n",
      "{'text': '1977年，李唯建写了一首抒发生平感怀的自传体长诗《吟怀篇》，诗中忆及与庐隐相识、恋爱、结婚、死别的一段生活，他哀叹：', 'spo_list': [{'predicate': '丈夫', 'object_type': {'@value': '人物'}, 'subject_type': '人物', 'object': {'@value': '李唯建'}, 'subject': '庐隐'}, {'predicate': '妻子', 'object_type': {'@value': '人物'}, 'subject_type': '人物', 'object': {'@value': '庐隐'}, 'subject': '李唯建'}]}\n",
      "{'text': '然而，朱彦夫依然成功了，《极限人生》《男儿无悔》两本自传体小说的出版，让更多人认识了这位“中国的保尔', 'spo_list': [{'predicate': '作者', 'object_type': {'@value': '人物'}, 'subject_type': '图书作品', 'object': {'@value': '朱彦夫'}, 'subject': '男儿无悔'}, {'predicate': '作者', 'object_type': {'@value': '人物'}, 'subject_type': '图书作品', 'object': {'@value': '朱彦夫'}, 'subject': '极限人生'}]}\n",
      "{'text': '莫言《蛙》，杨绛《洗澡》《我们仨》，钱锺书《管锥编》（刚刚看了一小部分），乔叶《我是真的爱你》，金克木《书读完了》，路遥《平凡的世界》……比较不严肃的……《变态心理学》《因扎吉自传：超级皮波》《超新星纪元》……特别不入流的《搜神记》《蛮荒记》《卡徒》', 'spo_list': [{'predicate': '作者', 'object_type': {'@value': '人物'}, 'subject_type': '图书作品', 'object': {'@value': '路遥'}, 'subject': '平凡的世界'}, {'predicate': '作者', 'object_type': {'@value': '人物'}, 'subject_type': '图书作品', 'object': {'@value': '杨绛'}, 'subject': '洗澡'}, {'predicate': '作者', 'object_type': {'@value': '人物'}, 'subject_type': '图书作品', 'object': {'@value': '杨绛'}, 'subject': '我们仨'}, {'predicate': '作者', 'object_type': {'@value': '人物'}, 'subject_type': '图书作品', 'object': {'@value': '金克木'}, 'subject': '书读完了'}, {'predicate': '作者', 'object_type': {'@value': '人物'}, 'subject_type': '图书作品', 'object': {'@value': '钱锺书'}, 'subject': '管锥编'}]}\n",
      "{'text': '关于《李敖自传》李敖八十岁写的这本自传，台湾版书名为《李敖风流自传》，大陆版名为《李敖自传》，最近由人民文学出版社推出，这也是中国大陆首次出版该书', 'spo_list': [{'predicate': '作者', 'object_type': {'@value': '人物'}, 'subject_type': '图书作品', 'object': {'@value': '李敖'}, 'subject': '李敖自传'}]}\n",
      "{'text': '《棋魔： 藤泽秀行自传》是1990年中国广播电视出版社出版的图书，作者是藤泽秀行', 'spo_list': [{'predicate': '作者', 'object_type': {'@value': '人物'}, 'subject_type': '图书作品', 'object': {'@value': '藤泽秀行'}, 'subject': '棋魔： 藤泽秀行自传'}]}\n",
      "{'text': '蒋纬国早年曾否认自己为蒋介石的养子，晚年时在自传《千山独行——蒋纬国的人生之旅》中表示：生父乃戴季陶，生母为日本护士重松金子（津渊美智子其实是其长兄戴安国之母，重松金子的名字出自蒋介石日记，非常可信）', 'spo_list': [{'predicate': '母亲', 'object_type': {'@value': '人物'}, 'subject_type': '人物', 'object': {'@value': '津渊美智子'}, 'subject': '戴安国'}]}\n",
      "{'text': '费德里科·费里尼(FedericoFellini)，1920年1月20日出生于意大利里米尼市，意大利电影导演、编剧、制作人 在1963年，他执导的自传片《八部半》获得第36届奥斯卡金像奖最佳外语片奖，该片多次入选各地影评人评选的影史十佳 看完整部影片也没有发现关于八部半的影子，为什么要取这个名字呢', 'spo_list': [{'predicate': '获奖', 'object_type': {'inWork': '作品', '@value': '奖项', 'period': 'Number'}, 'subject_type': '娱乐人物', 'object': {'inWork': '八部半', '@value': '奥斯卡金像奖最佳外语片', 'period': '36'}, 'subject': '费德里科·费里尼'}, {'predicate': '导演', 'object_type': {'@value': '人物'}, 'subject_type': '影视作品', 'object': {'@value': '费德里科·费里尼'}, 'subject': '八部半'}]}\n",
      "{'text': '这部影片改编自法国当代女作家玛格丽特·杜拉斯在1984年发表，并获当年龚古尔文学奖的同名自传小说《情人》', 'spo_list': [{'predicate': '获奖', 'object_type': {'inWork': '作品', 'onDate': 'Date', '@value': '奖项'}, 'subject_type': '娱乐人物', 'object': {'inWork': '情人', 'onDate': '1984年', '@value': '龚古尔文学奖'}, 'subject': '玛格丽特·杜拉斯'}, {'predicate': '作者', 'object_type': {'@value': '人物'}, 'subject_type': '图书作品', 'object': {'@value': '玛格丽特·杜拉斯'}, 'subject': '情人'}]}\n",
      "{'text': '《 哲学的自传》是2011年3月华夏出版社出版的图书，作者是迈克尔·戴维斯', 'spo_list': [{'predicate': '作者', 'object_type': {'@value': '人物'}, 'subject_type': '图书作品', 'object': {'@value': '迈克尔·戴维斯'}, 'subject': '哲学的自传'}]}\n",
      "{'text': '1998 年 北京出版社“百年人生”丛书：韦君宜《思痛录》、周一良《毕竟是书生》、吴冠中自传《生命的风景》、叶笃义《虽九死其犹未悔》及边云峰小说《岁月遥迢而来》选用郑忠的版画作品作封面、封底', 'spo_list': [{'predicate': '作者', 'object_type': {'@value': '人物'}, 'subject_type': '图书作品', 'object': {'@value': '边云峰'}, 'subject': '岁月遥迢而来'}, {'predicate': '作者', 'object_type': {'@value': '人物'}, 'subject_type': '图书作品', 'object': {'@value': '周一良'}, 'subject': '毕竟是书生'}, {'predicate': '作者', 'object_type': {'@value': '人物'}, 'subject_type': '图书作品', 'object': {'@value': '韦君宜'}, 'subject': '思痛录'}, {'predicate': '作者', 'object_type': {'@value': '人物'}, 'subject_type': '图书作品', 'object': {'@value': '吴冠中'}, 'subject': '生命的风景'}]}\n",
      "{'text': ')，这部作品是她个人的自传，详细地讲述了她的人生经历：“曾子墨，生于北京，高三时以北京市模拟考试前三名的成绩保送到人民大学金融系，一年后出国留学，以托福660的高分被‘常青藤盟’达特茅斯大学录取，并于1996年获学士学位', 'spo_list': [{'predicate': '毕业院校', 'object_type': {'@value': '学校'}, 'subject_type': '人物', 'object': {'@value': '达特茅斯大学'}, 'subject': '曾子墨'}]}\n",
      "{'text': '导演爱德华·贝尔格，代表作柏林电影节金熊奖提名片《杰克》 该剧故事改编自英国作家爱德华·圣·奥宾创作的自传体小说，《帕特里克·梅尔罗斯》五部曲，一部拍一集', 'spo_list': [{'predicate': '导演', 'object_type': {'@value': '人物'}, 'subject_type': '影视作品', 'object': {'@value': '爱德华·贝尔格'}, 'subject': '杰克'}, {'predicate': '编剧', 'object_type': {'@value': '人物'}, 'subject_type': '影视作品', 'object': {'@value': '爱德华·贝尔格'}, 'subject': '杰克'}]}\n",
      "{'text': '内容介绍梁漱溟与毛泽东（改变那个世纪的人和事），ISBN：9787216036399，作者：汪东林著作品目录1 梁濑溟与毛泽东\\u3000\\u30002 父亲和我\\u3000\\u30003 晚年的周作人\\u3000\\u30004 物理科学第一夫人吴健雄\\u3000\\u30005 林语堂自传\\u3000\\u30006 郁达夫自传\\u3000\\u30007 胡适杂忆', 'spo_list': [{'predicate': '作者', 'object_type': {'@value': '人物'}, 'subject_type': '图书作品', 'object': {'@value': '汪东林'}, 'subject': '梁漱溟与毛泽东'}]}\n",
      "{'text': '内容介绍《超级产品的本质:汽车大王亨利·福特自传》内容简介：汽车大王亨利·福特在本书中，详细回顾了人类历史上最伟大的超级产品之一——“福特T型车”从构想到狂销全球的全过程', 'spo_list': [{'predicate': '作者', 'object_type': {'@value': '人物'}, 'subject_type': '图书作品', 'object': {'@value': '亨利·福特'}, 'subject': '福特自传'}]}\n",
      "{'text': '《童年·在人间·我的大学》是前苏联作家马克西姆·高尔基（1868－1936）自传三部曲《童年》《在人间》《我的大学》的缩写', 'spo_list': [{'predicate': '作者', 'object_type': {'@value': '人物'}, 'subject_type': '图书作品', 'object': {'@value': '马克西姆·高尔基'}, 'subject': '童年·在人间·我的大学'}]}\n",
      "{'text': '《无法触碰》（Intouchables）是一部由奥利维·那卡什执导的法国电影，改编自一名法国富翁的自传《第二次呼吸》，由弗朗索瓦·克鲁塞、奥马·希、安乐妮、 奥黛丽·弗洛特等主演', 'spo_list': [{'predicate': '主演', 'object_type': {'@value': '人物'}, 'subject_type': '影视作品', 'object': {'@value': '安乐妮'}, 'subject': '无法触碰'}, {'predicate': '导演', 'object_type': {'@value': '人物'}, 'subject_type': '影视作品', 'object': {'@value': '奥利维·那卡什'}, 'subject': '无法触碰'}, {'predicate': '主演', 'object_type': {'@value': '人物'}, 'subject_type': '影视作品', 'object': {'@value': '弗朗索瓦·克鲁塞'}, 'subject': '无法触碰'}, {'predicate': '主演', 'object_type': {'@value': '人物'}, 'subject_type': '影视作品', 'object': {'@value': '奥黛丽·弗洛特'}, 'subject': '无法触碰'}, {'predicate': '主演', 'object_type': {'@value': '人物'}, 'subject_type': '影视作品', 'object': {'@value': '奥马·希'}, 'subject': '无法触碰'}, {'predicate': '改编自', 'object_type': {'@value': '作品'}, 'subject_type': '影视作品', 'object': {'@value': '第二次呼吸'}, 'subject': '无法触碰'}]}\n",
      "{'text': '新的一年从一本新书开始《李敖自传》作者：李敖出版社：人民文学出版社，2018年定价：78.00【简介】他独坐书斋、独步文坛、独立抗争', 'spo_list': [{'predicate': '作者', 'object_type': {'@value': '人物'}, 'subject_type': '图书作品', 'object': {'@value': '李敖'}, 'subject': '李敖自传'}]}\n",
      "{'text': '72013年，钟宜霖在北京创作的展现大时代全景的半自传性长篇小说《北京北京》（原名《个人现状》）由上海文艺出版社出版，并由台湾作家陈文芬（汉学家马悦然夫人）、中国当代文学研究会会长白烨等名家倾力推荐', 'spo_list': [{'predicate': '妻子', 'object_type': {'@value': '人物'}, 'subject_type': '人物', 'object': {'@value': '陈文芬'}, 'subject': '马悦然'}, {'predicate': '丈夫', 'object_type': {'@value': '人物'}, 'subject_type': '人物', 'object': {'@value': '马悦然'}, 'subject': '陈文芬'}]}\n",
      "{'text': '根据家中“李氏宗谱”所述，李家远籍云南乌撒，后迁居吉林省扶余市（出处《李敖自传与回忆录续集》）', 'spo_list': [{'predicate': '祖籍', 'object_type': {'@value': '地点'}, 'subject_type': '人物', 'object': {'@value': '吉林省扶余市'}, 'subject': '李敖'}]}\n",
      "{'text': '《怪怪怪的妻子》改编自日本鬼怪漫画第一人水木茂的夫人武良布枝的同名自传，渡边良雄执导，松下奈绪等主演', 'spo_list': [{'predicate': '主演', 'object_type': {'@value': '人物'}, 'subject_type': '影视作品', 'object': {'@value': '松下奈绪'}, 'subject': '怪怪怪的妻子'}, {'predicate': '国籍', 'object_type': {'@value': '国家'}, 'subject_type': '人物', 'object': {'@value': '日本'}, 'subject': '水木茂'}]}\n",
      "{'text': '自传《巨石如此说》荣登纽约时报畅销书排行榜吴京，1974年4月3日出生于北京，中国内地影视男演员、电影导演，毕业于北京体育大学', 'spo_list': [{'predicate': '毕业院校', 'object_type': {'@value': '学校'}, 'subject_type': '人物', 'object': {'@value': '北京体育大学'}, 'subject': '吴京'}, {'predicate': '国籍', 'object_type': {'@value': '国家'}, 'subject_type': '人物', 'object': {'@value': '中国'}, 'subject': '吴京'}]}\n",
      "{'text': '周星驰自导自编自演，无限接近自传式的电影《喜剧之王》，被无数人奉为神片，甚至还有人看个几十遍来激励自己奋发向上其实周星驰还有一部电影，同样也是描述一个 怀才不遇的小人物，慢慢找到自身价值的故事，艺术成就一点也不比《喜剧之王》低只是该片的故事背景及多方面因素，遗憾的未能在国内上映这部电影就是《国产凌凌漆》讲述的是一个身负绝技的特工不受重用，只能隐藏在民间当一个猪肉佬后来受到重用了，却又被左右夹击、危机重重，好在最后凭着自己一身过硬的技术才逃过这劫，并收获了一段爱情今天我们一起再来重温一遍这部让我们笑出鼻涕泡的经典片段吧不知道这部电影如果现在重新上映，会有多少票房呢', 'spo_list': [{'predicate': '编剧', 'object_type': {'@value': '人物'}, 'subject_type': '影视作品', 'object': {'@value': '周星驰'}, 'subject': '喜剧之王'}, {'predicate': '主演', 'object_type': {'@value': '人物'}, 'subject_type': '影视作品', 'object': {'@value': '周星驰'}, 'subject': '国产凌凌漆'}, {'predicate': '主演', 'object_type': {'@value': '人物'}, 'subject_type': '影视作品', 'object': {'@value': '周星驰'}, 'subject': '喜剧之王'}, {'predicate': '导演', 'object_type': {'@value': '人物'}, 'subject_type': '影视作品', 'object': {'@value': '周星驰'}, 'subject': '喜剧之王'}]}\n",
      "{'text': '《大使先生》，是中国内地女作家九丹情爱自传', 'spo_list': [{'predicate': '作者', 'object_type': {'@value': '人物'}, 'subject_type': '图书作品', 'object': {'@value': '九丹'}, 'subject': '大使先生'}]}\n",
      "{'text': '《李宗仁回忆录》、《胡适口述自传》、《顾维钧回忆录》、《晚清七十年》、《张学良口述历史》没错，唐德刚说真的，他是个不错的散文家文笔不错，贴近事实最大的问题，是没有分析我很欣赏他的笔调，但是对他的流于表面十分惊讶可当成原始史料阅读', 'spo_list': [{'predicate': '作者', 'object_type': {'@value': '人物'}, 'subject_type': '图书作品', 'object': {'@value': '唐德刚'}, 'subject': '张学良口述历史'}, {'predicate': '作者', 'object_type': {'@value': '人物'}, 'subject_type': '图书作品', 'object': {'@value': '唐德刚'}, 'subject': '晚清七十年'}, {'predicate': '作者', 'object_type': {'@value': '人物'}, 'subject_type': '图书作品', 'object': {'@value': '唐德刚'}, 'subject': '李宗仁回忆录'}]}\n",
      "{'text': '”全国乳业老三光明集团原董事长王佳芬在其最新的自传中，如是表示', 'spo_list': [{'predicate': '董事长', 'object_type': {'@value': '人物'}, 'subject_type': '企业', 'object': {'@value': '王佳芬'}, 'subject': '全国乳业老三光明集团'}]}\n",
      "{'text': '辛德勒的名单第五部：《当幸福来敲门》改编自美国黑人投资专家克里斯·加德纳2007年出版的同名自传', 'spo_list': [{'predicate': '国籍', 'object_type': {'@value': '国家'}, 'subject_type': '人物', 'object': {'@value': '美国'}, 'subject': '加德纳'}]}\n",
      "{'text': '像《我要幸福》《我这一辈子》《我要上春晚》等一系列相声作品就是郭德纲成名之前的辛酸史，就是自传', 'spo_list': [{'predicate': '导演', 'object_type': {'@value': '人物'}, 'subject_type': '影视作品', 'object': {'@value': '郭德纲'}, 'subject': '我要幸福'}]}\n",
      "{'text': '11月9日，主演半自传性影片《要钱不要命》在美国公映3', 'spo_list': [{'predicate': '上映时间', 'object_type': {'inArea': '地点', '@value': 'Date'}, 'subject_type': '影视作品', 'object': {'inArea': '美国', '@value': '11月9日'}, 'subject': '要钱不要命'}]}\n",
      "{'text': '《叛女》是由北京美亚恒升文化传播有限公司、北京天润农影视传播有限公司于2009年联合出品的谍战电视剧，改编自邢院生的同名自传小说，由李家琦、马小鸣执导，王思懿、王然、朱铁、吴健、李建义等主演1', 'spo_list': [{'predicate': '主演', 'object_type': {'@value': '人物'}, 'subject_type': '影视作品', 'object': {'@value': '吴健'}, 'subject': '叛女'}, {'predicate': '主演', 'object_type': {'@value': '人物'}, 'subject_type': '影视作品', 'object': {'@value': '朱铁'}, 'subject': '叛女'}, {'predicate': '出品公司', 'object_type': {'@value': '企业'}, 'subject_type': '影视作品', 'object': {'@value': '北京美亚恒升文化传播有限公司'}, 'subject': '叛女'}, {'predicate': '导演', 'object_type': {'@value': '人物'}, 'subject_type': '影视作品', 'object': {'@value': '李家琦'}, 'subject': '叛女'}, {'predicate': '主演', 'object_type': {'@value': '人物'}, 'subject_type': '影视作品', 'object': {'@value': '王思懿'}, 'subject': '叛女'}, {'predicate': '主演', 'object_type': {'@value': '人物'}, 'subject_type': '影视作品', 'object': {'@value': '李建义'}, 'subject': '叛女'}, {'predicate': '出品公司', 'object_type': {'@value': '企业'}, 'subject_type': '影视作品', 'object': {'@value': '北京天润农影视传播有限公司'}, 'subject': '叛女'}, {'predicate': '导演', 'object_type': {'@value': '人物'}, 'subject_type': '影视作品', 'object': {'@value': '马小鸣'}, 'subject': '叛女'}, {'predicate': '主演', 'object_type': {'@value': '人物'}, 'subject_type': '影视作品', 'object': {'@value': '王然'}, 'subject': '叛女'}]}\n",
      "{'text': '《北回归线》\\xa0-\\xa0[美]亨利·米勒-\\xa0[外国文学]\\xa0 \\u3000\\u3000《北回归线》是米勒的第一部自传体小说，', 'spo_list': [{'predicate': '作者', 'object_type': {'@value': '人物'}, 'subject_type': '图书作品', 'object': {'@value': '亨利·米勒'}, 'subject': '北回归线'}]}\n",
      "{'text': '而在胡兰成、赖雅之间，其实还有一段，那就是张爱玲和桑弧，两个人传过绯闻，但众人都以为并无实际瓜葛，桑弧一生也对张爱玲绝口不提，直到张爱玲自传性质的《小团圆》出版后，这段恋情才浮出水面', 'spo_list': [{'predicate': '作者', 'object_type': {'@value': '人物'}, 'subject_type': '图书作品', 'object': {'@value': '张爱玲'}, 'subject': '小团圆'}]}\n",
      "{'text': '《陈衡哲早年自传 》是 安徽教育出版社出版的图书，作者：陈衡哲', 'spo_list': [{'predicate': '作者', 'object_type': {'@value': '人物'}, 'subject_type': '图书作品', 'object': {'@value': '陈衡哲'}, 'subject': '陈衡哲早年自传'}]}\n",
      "{'text': '《过猴山》取材自传统木版年画的故事和形象，是一部由上海美术电影制片厂制作的水墨动画电影，王树忱担任导演，王正中担任编剧，吴应炬担任作曲', 'spo_list': [{'predicate': '导演', 'object_type': {'@value': '人物'}, 'subject_type': '影视作品', 'object': {'@value': '王树忱'}, 'subject': '过猴山'}, {'predicate': '编剧', 'object_type': {'@value': '人物'}, 'subject_type': '影视作品', 'object': {'@value': '王正中'}, 'subject': '过猴山'}]}\n",
      "{'text': '在题为《激情岁月》的自传中，告别赛场荣耀的郎平回顾了自己1987年赴美国留学时的那段艰难、贫困甚至不得不为钱打球的岁月', 'spo_list': [{'predicate': '作者', 'object_type': {'@value': '人物'}, 'subject_type': '图书作品', 'object': {'@value': '郎平'}, 'subject': '激情岁月'}]}\n",
      "{'text': '复旦图书馆藏有几百册1922年毕业、抗战时期复旦大学教务长兼法学院院长孙寒冰烈士的赠书，他的藏书大部分为社会主义理论专著，他在1938年将美国记者埃德加斯诺的《西行漫记》截取选登命名为《毛泽东自传》，与这些社会主义理论专著的熏陶密不可分', 'spo_list': [{'predicate': '作者', 'object_type': {'@value': '人物'}, 'subject_type': '图书作品', 'object': {'@value': '埃德加斯诺'}, 'subject': '西行漫记'}]}\n",
      "{'text': '北回归线作者: [美] 亨利·米勒豆瓣评分：7.8《北回归线》是亨利米勒自传性三部曲之首，描写了米勒同几位作家、艺术家朋友旅居巴黎的生活经历，同时通过对工作、交谈、宴饮、嫖妓等夸张、变形的生活细节的描写，展现了穷困潦倒的艺术家们的内在精神世界，诘问了在这个杂乱无序、肮脏的世界生存的意义', 'spo_list': [{'predicate': '作者', 'object_type': {'@value': '人物'}, 'subject_type': '图书作品', 'object': {'@value': '亨利·米勒'}, 'subject': '北回归线'}, {'predicate': '作者', 'object_type': {'@value': '人物'}, 'subject_type': '图书作品', 'object': {'@value': '亨利米勒'}, 'subject': '北回归线'}]}\n",
      "{'text': '沈从文 《从文自传·我上许多课仍然不放下那一本大书》：“新学校临近高山，校屋前后各处是树，同学又多，当然十分有趣', 'spo_list': [{'predicate': '作者', 'object_type': {'@value': '人物'}, 'subject_type': '图书作品', 'object': {'@value': '沈从文'}, 'subject': '从文自传·我上许多课仍然不放下那一本大书'}]}\n",
      "{'text': '金大中著，《金大中自传》，中国人民大学出版社，2012年', 'spo_list': [{'predicate': '作者', 'object_type': {'@value': '人物'}, 'subject_type': '图书作品', 'object': {'@value': '金大中'}, 'subject': '金大中自传'}]}\n",
      "{'text': '1999年的《喜剧之王》被认为是最为贴切周星驰人生角色的一部影片，被视为是对其长达6年跑龙套生涯的一个自传式作品，同时也是他从演员到导演的转型之作', 'spo_list': [{'predicate': '上映时间', 'object_type': {'@value': 'Date'}, 'subject_type': '影视作品', 'object': {'@value': '1999年'}, 'subject': '喜剧之王'}, {'predicate': '主演', 'object_type': {'@value': '人物'}, 'subject_type': '影视作品', 'object': {'@value': '周星驰'}, 'subject': '喜剧之王'}, {'predicate': '导演', 'object_type': {'@value': '人物'}, 'subject_type': '影视作品', 'object': {'@value': '周星驰'}, 'subject': '喜剧之王'}]}\n",
      "{'text': '带着这些疑问，我找来曹德旺的自传《心若菩提》一书，又翻阅了几十篇报道与评论文章，试图还原一下《美国工厂》的前传——高山公社异型玻璃厂', 'spo_list': [{'predicate': '作者', 'object_type': {'@value': '人物'}, 'subject_type': '图书作品', 'object': {'@value': '曹德旺'}, 'subject': '心若菩提'}]}\n",
      "{'text': '《自传》是由周耀辉作词，John Laudon曲，林欣彤演唱的一首粤语歌曲', 'spo_list': [{'predicate': '歌手', 'object_type': {'@value': '人物'}, 'subject_type': '歌曲', 'object': {'@value': '林欣彤'}, 'subject': '自传'}, {'predicate': '作词', 'object_type': {'@value': '人物'}, 'subject_type': '歌曲', 'object': {'@value': '周耀辉'}, 'subject': '自传'}, {'predicate': '作曲', 'object_type': {'@value': '人物'}, 'subject_type': '歌曲', 'object': {'@value': 'John Laudon'}, 'subject': '自传'}]}\n",
      "{'text': '於梨华\\xa0《梦回青河》这部小说是是自传形式的小说，她自己也说过，小说就是根据她少女时代对故乡的回忆写成的，於梨华也说过，定玉的性格和她少女时代差不多，有的东西是不可能明说的，', 'spo_list': [{'predicate': '作者', 'object_type': {'@value': '人物'}, 'subject_type': '图书作品', 'object': {'@value': '於梨华'}, 'subject': '梦回青河'}]}\n",
      "{'text': '86版《西游记》伴随我们走过整个童年时期，但为之付出六年心血的导演杨洁老师为何会在自传中说出“我不去，今后不论上天堂还是下地狱，我都不会和他们走在一起”', 'spo_list': [{'predicate': '编剧', 'object_type': {'@value': '人物'}, 'subject_type': '影视作品', 'object': {'@value': '杨洁'}, 'subject': '西游记'}, {'predicate': '导演', 'object_type': {'@value': '人物'}, 'subject_type': '影视作品', 'object': {'@value': '杨洁'}, 'subject': '西游记'}]}\n",
      "{'text': '论历史文化，香奈儿创立于1910年，卡地亚创立于1847年，蒂芙尼创立于1837年，至今也就一百多年不到两百年的历史，而翡翠自传入至今已有600年的历史，南红有3000年的历史，和田玉有7000多年，玉髓在我国新石器时代就已经作为饰物出现，是人类历史上最古老的玉石品种之一', 'spo_list': [{'predicate': '成立日期', 'object_type': {'@value': 'Date'}, 'subject_type': '机构', 'object': {'@value': '1847年'}, 'subject': '卡地亚'}, {'predicate': '成立日期', 'object_type': {'@value': 'Date'}, 'subject_type': '机构', 'object': {'@value': '1910年'}, 'subject': '香奈儿'}, {'predicate': '成立日期', 'object_type': {'@value': 'Date'}, 'subject_type': '机构', 'object': {'@value': '1837年'}, 'subject': '蒂芙尼'}]}\n",
      "{'text': '今天给大家分享的是英国女作家夏洛蒂·勃朗特创作的长篇小说——《简爱》，一本带着自传气息的爱情小说', 'spo_list': [{'predicate': '作者', 'object_type': {'@value': '人物'}, 'subject_type': '图书作品', 'object': {'@value': '夏洛蒂·勃朗特'}, 'subject': '简爱'}]}\n",
      "{'text': '这部书虽然有老舍先生自传性质的东西在里面，但是从根本上说：“这仍然是一部小说 ”——（老舍夫人胡絜青 语）老舍先生的《离婚》是和巴金的《家》、茅盾的《子夜》齐名的 很奇怪，原先我没怎么注意这部小说，直到后来我重读这部小说的时候才略微有些感受，可说到头，我还是喜欢老舍先生的《正红旗下》', 'spo_list': [{'predicate': '丈夫', 'object_type': {'@value': '人物'}, 'subject_type': '人物', 'object': {'@value': '老舍'}, 'subject': '胡絜青'}, {'predicate': '妻子', 'object_type': {'@value': '人物'}, 'subject_type': '人物', 'object': {'@value': '胡絜青'}, 'subject': '老舍'}, {'predicate': '作者', 'object_type': {'@value': '人物'}, 'subject_type': '图书作品', 'object': {'@value': '老舍'}, 'subject': '离婚'}, {'predicate': '作者', 'object_type': {'@value': '人物'}, 'subject_type': '图书作品', 'object': {'@value': '老舍'}, 'subject': '正红旗下'}, {'predicate': '作者', 'object_type': {'@value': '人物'}, 'subject_type': '图书作品', 'object': {'@value': '茅盾'}, 'subject': '子夜'}]}\n",
      "{'text': '简介徐克作序、刘德华、杜琪峰等人诚意推荐的胡伟立自传《一起走过的日子》一书，终于在2012年10月出版发行', 'spo_list': [{'predicate': '作者', 'object_type': {'@value': '人物'}, 'subject_type': '图书作品', 'object': {'@value': '胡伟立'}, 'subject': '一起走过的日子'}]}\n",
      "{'text': '《四十自述》是胡适生前唯一亲笔撰写的自传，是中国现代传记文学的名篇之作', 'spo_list': [{'predicate': '作者', 'object_type': {'@value': '人物'}, 'subject_type': '图书作品', 'object': {'@value': '胡适'}, 'subject': '四十自述'}]}\n",
      "{'text': '英国本土导演西恩·迈德斯的新作《这就是英国》是一部以其亲身经历为原型的半自传体作品，故事围绕一群生活在上世纪八十年代的“光头仔”而展开', 'spo_list': [{'predicate': '导演', 'object_type': {'@value': '人物'}, 'subject_type': '影视作品', 'object': {'@value': '西恩·迈德斯'}, 'subject': '这就是英国'}]}\n",
      "{'text': '影片评价《青春年少》是导演韦斯·安德森在自己母校拍摄的一部电影，有着很强烈的自传色彩，影片上映后获得了肯定', 'spo_list': [{'predicate': '导演', 'object_type': {'@value': '人物'}, 'subject_type': '影视作品', 'object': {'@value': '韦斯·安德森'}, 'subject': '青春年少'}]}\n",
      "{'text': '唐德刚的《胡适口述自传》和《胡适杂忆》', 'spo_list': [{'predicate': '作者', 'object_type': {'@value': '人物'}, 'subject_type': '图书作品', 'object': {'@value': '唐德刚'}, 'subject': '胡适杂忆'}, {'predicate': '作者', 'object_type': {'@value': '人物'}, 'subject_type': '图书作品', 'object': {'@value': '唐德刚'}, 'subject': '胡适口述自传'}]}\n",
      "{'text': '《简·爱》（Jane Eyre）是十九世纪英国著名的女作家夏洛蒂·勃朗特的代表作，人们普遍认为《简·爱》是夏洛蒂·勃朗特“诗意的生平写照”，是一部具有自传色彩的作品 讲述一位从小变成孤儿的英国女子在各种磨难中不断追求自由与尊严，坚持自我，最终获得幸福的故事 小说引人入胜地展示了男女主人公曲折起伏的爱情经历，歌颂了摆脱一切旧习俗和偏见，成功塑造了一个敢于反抗，敢于争取自由和平等地位的妇女形象', 'spo_list': [{'predicate': '作者', 'object_type': {'@value': '人物'}, 'subject_type': '图书作品', 'object': {'@value': '夏洛蒂·勃朗特'}, 'subject': '简·爱'}, {'predicate': '作者', 'object_type': {'@value': '人物'}, 'subject_type': '图书作品', 'object': {'@value': '夏洛蒂·勃朗特'}, 'subject': 'Jane Eyre'}]}\n",
      "{'text': '前面有妹纸提到了 的确是本好书啊 简爱《简·爱》（Jane Eyre）是十九世纪英国著名的女作家夏洛蒂·勃朗特的代表作，人们普遍认为《简·爱》是夏洛蒂·勃朗特“诗意的生平写照”，是一部具有自传色彩的作品 讲述一位从小变成孤儿的英国女子在各种磨难中不断追求自由与尊严，坚持自我，最终获得幸福的故事 我也很喜欢的一本但是真的全忘了 只记得她和庄园男主人的爱情 这种配对最有爱了', 'spo_list': [{'predicate': '作者', 'object_type': {'@value': '人物'}, 'subject_type': '图书作品', 'object': {'@value': '勃朗特'}, 'subject': '简爱'}, {'predicate': '作者', 'object_type': {'@value': '人物'}, 'subject_type': '图书作品', 'object': {'@value': '夏洛蒂·勃朗特'}, 'subject': '简·爱'}, {'predicate': '作者', 'object_type': {'@value': '人物'}, 'subject_type': '图书作品', 'object': {'@value': '夏洛蒂·勃朗特'}, 'subject': 'Jane Eyre'}, {'predicate': '国籍', 'object_type': {'@value': '国家'}, 'subject_type': '人物', 'object': {'@value': '英国'}, 'subject': '夏洛蒂·勃朗特'}]}\n",
      "{'text': '话剧《梵高自传》由中间剧场出品，由斯立戏剧的周申、刘露、金晔联合编剧导演，于2013年在北京中间剧场首演', 'spo_list': [{'predicate': '导演', 'object_type': {'@value': '人物'}, 'subject_type': '影视作品', 'object': {'@value': '金晔'}, 'subject': '梵高自传'}, {'predicate': '出品公司', 'object_type': {'@value': '企业'}, 'subject_type': '影视作品', 'object': {'@value': '中间剧场'}, 'subject': '梵高自传'}, {'predicate': '编剧', 'object_type': {'@value': '人物'}, 'subject_type': '影视作品', 'object': {'@value': '刘露'}, 'subject': '梵高自传'}]}\n",
      "{'text': '为了你我愿意热爱整个世界：《为了你我愿意热爱整个世界》是华策克顿传媒新天地工作室出品的都市情感剧 ，由余翠华、郭虎联合执导[1]  ，滕华涛监制，墨宝非宝编剧，罗晋、郑爽、张艺上、庞瀚辰、王柯达、孔琳、杨金承、李依伊等主演，该剧改编自唐家三少同名自传体小说，讲述了长弓和木子20年相知相爱相伴的情感点滴，以及长弓从行业新贵摔到尘埃，再到最后找到人生的路，最后成为作家富豪榜榜首的成长历程', 'spo_list': [{'predicate': '主演', 'object_type': {'@value': '人物'}, 'subject_type': '影视作品', 'object': {'@value': '庞瀚辰'}, 'subject': '为了你我愿意热爱整个世界'}, {'predicate': '主演', 'object_type': {'@value': '人物'}, 'subject_type': '影视作品', 'object': {'@value': '郑爽'}, 'subject': '为了你我愿意热爱整个世界'}, {'predicate': '主演', 'object_type': {'@value': '人物'}, 'subject_type': '影视作品', 'object': {'@value': '杨金承'}, 'subject': '为了你我愿意热爱整个世界'}, {'predicate': '编剧', 'object_type': {'@value': '人物'}, 'subject_type': '影视作品', 'object': {'@value': '墨宝非宝'}, 'subject': '为了你我愿意热爱整个世界'}, {'predicate': '导演', 'object_type': {'@value': '人物'}, 'subject_type': '影视作品', 'object': {'@value': '郭虎'}, 'subject': '为了你我愿意热爱整个世界'}, {'predicate': '主演', 'object_type': {'@value': '人物'}, 'subject_type': '影视作品', 'object': {'@value': '李依伊'}, 'subject': '为了你我愿意热爱整个世界'}, {'predicate': '主演', 'object_type': {'@value': '人物'}, 'subject_type': '影视作品', 'object': {'@value': '王柯达'}, 'subject': '为了你我愿意热爱整个世界'}, {'predicate': '主演', 'object_type': {'@value': '人物'}, 'subject_type': '影视作品', 'object': {'@value': '孔琳'}, 'subject': '为了你我愿意热爱整个世界'}, {'predicate': '导演', 'object_type': {'@value': '人物'}, 'subject_type': '影视作品', 'object': {'@value': '余翠华'}, 'subject': '为了你我愿意热爱整个世界'}, {'predicate': '主演', 'object_type': {'@value': '人物'}, 'subject_type': '影视作品', 'object': {'@value': '罗晋'}, 'subject': '为了你我愿意热爱整个世界'}, {'predicate': '主演', 'object_type': {'@value': '人物'}, 'subject_type': '影视作品', 'object': {'@value': '张艺上'}, 'subject': '为了你我愿意热爱整个世界'}]}\n",
      "{'text': '” 沈从文 《从文自传·我上许多课仍然不放下那一本大书》：“到场上去我们还可以看各样水碾水碓，并各种形式的水车', 'spo_list': [{'predicate': '作者', 'object_type': {'@value': '人物'}, 'subject_type': '图书作品', 'object': {'@value': '沈从文'}, 'subject': '从文自传·我上许多课仍然不放下那一本大书'}]}\n",
      "{'text': '本书精选了马克·吐温的71篇富于幽默讽刺意味和人生洞见的小品、随笔和演讲，如《滑稽自传》、《殡葬艺术》、《土耳其浴》、《躺在床上最危险》、《撒谎艺术的没落》等', 'spo_list': [{'predicate': '作者', 'object_type': {'@value': '人物'}, 'subject_type': '图书作品', 'object': {'@value': '马克·吐温'}, 'subject': '滑稽自传'}]}\n",
      "{'text': '《人间卧底》摄影师马良自传性文集，记述的是一段理想还只是理想，不曾成为苦役，梦只是梦，还能来去自如的“无赖岁月”，这是一部更为彻底的“坦白书”，如同作者其他作品，讲述的是马良的成长与梦幻，却不小心道出所有人都曾有的困惑和坚持', 'spo_list': [{'predicate': '作者', 'object_type': {'@value': '人物'}, 'subject_type': '图书作品', 'object': {'@value': '马良'}, 'subject': '人间卧底'}, {'predicate': '作者', 'object_type': {'@value': '人物'}, 'subject_type': '图书作品', 'object': {'@value': '马良'}, 'subject': '坦白书'}]}\n",
      "{'text': '“沈从文的湘西世界”（系列书），精选沈从文关于湘西作品《边城》、《长河》、《从文自传》、《湘行游记》、《湘行书简》等十四种，约一百二十余万字；配上从卓雅封存的一万幅原始照片中整理、精心挑选出的千余幅照片，编辑成“沈从文的湘西世界”（系列书），沈从文用他的文字将湘西人性的质朴与自然山水的奇美和谐地糅合在一起，卓雅通过镜头再现了沈从文笔下的这片土地', 'spo_list': [{'predicate': '作者', 'object_type': {'@value': '人物'}, 'subject_type': '图书作品', 'object': {'@value': '沈从文'}, 'subject': '边城'}, {'predicate': '作者', 'object_type': {'@value': '人物'}, 'subject_type': '图书作品', 'object': {'@value': '沈从文'}, 'subject': '湘行书简'}, {'predicate': '作者', 'object_type': {'@value': '人物'}, 'subject_type': '图书作品', 'object': {'@value': '沈从文'}, 'subject': '长河'}, {'predicate': '作者', 'object_type': {'@value': '人物'}, 'subject_type': '图书作品', 'object': {'@value': '沈从文'}, 'subject': '从文自传'}, {'predicate': '作者', 'object_type': {'@value': '人物'}, 'subject_type': '图书作品', 'object': {'@value': '沈从文'}, 'subject': '湘行游记'}]}\n",
      "{'text': '《简·爱》（JaneEyre）是英国女作家夏洛蒂·勃朗特创作的长篇小说，是一部具有自传色彩的作品', 'spo_list': [{'predicate': '作者', 'object_type': {'@value': '人物'}, 'subject_type': '图书作品', 'object': {'@value': '夏洛蒂·勃朗特'}, 'subject': '简·爱'}, {'predicate': '作者', 'object_type': {'@value': '人物'}, 'subject_type': '图书作品', 'object': {'@value': '夏洛蒂·勃朗特'}, 'subject': 'JaneEyre'}]}\n",
      "{'text': '2009年，出版的口述自传《音乐使人自由》7；3月，发行个人录音室专辑《Out of Noise》，并展开世界巡回演出“坂本龙一 Playing the Piano 2009”；7月，获得法国艺术及文学勋章军官勋位8；9月，发行现场专辑《Playing the Piano》48；同年，负责剧情片《没有男人的女人》的配乐49', 'spo_list': [{'predicate': '获奖', 'object_type': {'onDate': 'Date', '@value': '奖项'}, 'subject_type': '娱乐人物', 'object': {'onDate': '2009年', '@value': '法国艺术及文学勋章军官勋位'}, 'subject': '坂本龙一'}, {'predicate': '作者', 'object_type': {'@value': '人物'}, 'subject_type': '图书作品', 'object': {'@value': '坂本龙一'}, 'subject': '音乐使人自由'}]}\n",
      "{'text': '艾丽斯·希伯德（Alice Sebold）毕业于加州大学，1999年曾将自己大学时代遭受强暴的经历写成自传出版，被媒体誉为“最具潜力的作家”', 'spo_list': [{'predicate': '毕业院校', 'object_type': {'@value': '学校'}, 'subject_type': '人物', 'object': {'@value': '加州大学'}, 'subject': '艾丽斯·希伯德'}]}\n",
      "{'text': '2002年，以半纪录片式手法拍摄了根据波兰犹太作曲家和钢琴家席皮尔曼自传改编的剧情片《钢琴师》，该片获得第75届奥斯卡金像奖最佳影片奖提名、第56届英国电影学院奖电影奖-最佳影片奖，罗曼·波兰斯基凭借此片获得第75届奥斯卡金像奖最佳导演奖、第56届英国电影学院奖大卫·林恩导演奖、第25届欧洲电影奖最佳导演奖提名11121314', 'spo_list': [{'predicate': '获奖', 'object_type': {'@value': '奖项', 'period': 'Number'}, 'subject_type': '娱乐人物', 'object': {'@value': '奥斯卡金像奖最佳导演奖', 'period': '75'}, 'subject': '罗曼·波兰斯基'}, {'predicate': '获奖', 'object_type': {'@value': '奖项', 'period': 'Number'}, 'subject_type': '娱乐人物', 'object': {'@value': '英国电影学院奖大卫·林恩导演奖', 'period': '56'}, 'subject': '罗曼·波兰斯基'}, {'predicate': '国籍', 'object_type': {'@value': '国家'}, 'subject_type': '人物', 'object': {'@value': '波兰'}, 'subject': '席皮尔曼'}, {'predicate': '作者', 'object_type': {'@value': '人物'}, 'subject_type': '图书作品', 'object': {'@value': '席皮尔曼'}, 'subject': '钢琴师'}, {'predicate': '导演', 'object_type': {'@value': '人物'}, 'subject_type': '影视作品', 'object': {'@value': '罗曼·波兰斯基'}, 'subject': '钢琴师'}]}\n",
      "{'text': '《三生影像》是一本聂华苓写的自传类书籍，由生活·读书·新知三联书店出版', 'spo_list': [{'predicate': '作者', 'object_type': {'@value': '人物'}, 'subject_type': '图书作品', 'object': {'@value': '聂华苓'}, 'subject': '三生影像'}]}\n",
      "{'text': '■ 年度歌曲奖 大风吹《丑奴儿》 告白气球《周杰伦的床边故事》 后来的我们《自传》 离心力《离心力》 钉子花《钉子花》', 'spo_list': [{'predicate': '所属专辑', 'object_type': {'@value': '音乐专辑'}, 'subject_type': '歌曲', 'object': {'@value': '自传'}, 'subject': '后来的我们'}]}\n",
      "{'text': '1999年02月13日\\u3000发行HOT自传《HOT\\xa0FOREVER》\\xa0 1999年03月17日\\u3000获得99大韩民国演艺艺术大奖\\xa0 1999年04月04日-05日\\u3000奥林匹克体操竞技场举办CLUB\\xa0H.O.T第三届歌迷会', 'spo_list': [{'predicate': '获奖', 'object_type': {'onDate': 'Date', '@value': '奖项'}, 'subject_type': '娱乐人物', 'object': {'onDate': '1999年', '@value': '大韩民国演艺艺术大奖'}, 'subject': 'H.O.T'}]}\n",
      "{'text': '内容简介《什么是杰作》是夏尔·丹齐格继《为什么读书》之后又一部关于文学与阅读的作品，介乎文学批评与热心读者自传式的表白之间，试图识别一个众人皆知，但此前甚少被定义和深入分析的概念：杰作', 'spo_list': [{'predicate': '作者', 'object_type': {'@value': '人物'}, 'subject_type': '图书作品', 'object': {'@value': '夏尔·丹齐格'}, 'subject': '什么是杰作'}, {'predicate': '作者', 'object_type': {'@value': '人物'}, 'subject_type': '图书作品', 'object': {'@value': '夏尔·丹齐格'}, 'subject': '为什么读书'}]}\n",
      "{'text': '株洲地震台是省市地震部门在湘中东地区布置的一个重点项目，工程占地面积5亩，建筑面积200多平方米，总投资约100多万元，全部实现自动监测、数据自传输、运程监控', 'spo_list': [{'predicate': '占地面积', 'object_type': {'@value': 'Number'}, 'subject_type': '机构', 'object': {'@value': '5亩'}, 'subject': '株洲地震台'}]}\n",
      "{'text': '今中文简体精装版“唐德刚作品集”，收入早期著作、晚期作品，囊括《李宗仁回忆录》、《胡适口述自传》、《胡适杂忆》等经典史著，每册均以胡适手迹集字书名，以历史照片还原现场', 'spo_list': [{'predicate': '作者', 'object_type': {'@value': '人物'}, 'subject_type': '图书作品', 'object': {'@value': '唐德刚'}, 'subject': '胡适杂忆'}, {'predicate': '作者', 'object_type': {'@value': '人物'}, 'subject_type': '图书作品', 'object': {'@value': '唐德刚'}, 'subject': '李宗仁回忆录'}]}\n",
      "{'text': '《5000词床头灯英语学习读本:儿子与情人(英汉对照)》主要内容：《儿子和情人》是D.H.劳伦斯创作早期的一部重要小说，这部具有自传色彩的作品出版于1913年，被批评家们誉为“第一部弗洛伊德式的英语小说”', 'spo_list': [{'predicate': '作者', 'object_type': {'@value': '人物'}, 'subject_type': '图书作品', 'object': {'@value': 'D.H.劳伦斯'}, 'subject': '5000词床头灯英语学习读本:儿子与情人(英汉对照)'}, {'predicate': '作者', 'object_type': {'@value': '人物'}, 'subject_type': '图书作品', 'object': {'@value': 'D.H.劳伦斯'}, 'subject': '儿子和情人'}]}\n",
      "{'text': '《冯友兰学术自传》是2007年人民出版社出版的图书，作者是冯友兰', 'spo_list': [{'predicate': '作者', 'object_type': {'@value': '人物'}, 'subject_type': '图书作品', 'object': {'@value': '冯友兰'}, 'subject': '冯友兰学术自传'}]}\n",
      "{'text': '《同心难改》是依据导演兼编剧谢米姆·萨尔弗所撰写的自传小说改编而成的剧情片，由丽莎·蕾、茜多·塞丝等领衔主演', 'spo_list': [{'predicate': '导演', 'object_type': {'@value': '人物'}, 'subject_type': '影视作品', 'object': {'@value': '谢米姆·萨尔弗'}, 'subject': '同心难改'}, {'predicate': '编剧', 'object_type': {'@value': '人物'}, 'subject_type': '影视作品', 'object': {'@value': '谢米姆·萨尔弗'}, 'subject': '同心难改'}, {'predicate': '主演', 'object_type': {'@value': '人物'}, 'subject_type': '影视作品', 'object': {'@value': '茜多·塞丝'}, 'subject': '同心难改'}]}\n",
      "{'text': '”\\u3000\\u3000《绝不呼救》成金志文自传作品 摇滚力量惊艳释放\\u3000\\u3000如今的金志文在华语乐坛备受关注，“词曲唱编制”样样精通的他是少有的全能唱作人，但众所周知这番成绩得来不易，北漂近十年的心酸经历一言难尽，却无须再提，因为一切答案都在音乐里取得了圆满回应', 'spo_list': [{'predicate': '歌手', 'object_type': {'@value': '人物'}, 'subject_type': '歌曲', 'object': {'@value': '金志文'}, 'subject': '绝不呼救'}, {'predicate': '作曲', 'object_type': {'@value': '人物'}, 'subject_type': '歌曲', 'object': {'@value': '金志文'}, 'subject': '绝不呼救'}]}\n"
     ]
    }
   ],
   "source": [
    "for example in train_data:\n",
    "    if \"自传\" in example[\"text\"]:\n",
    "        print(example)"
   ]
  }
 ],
 "metadata": {
  "kernelspec": {
   "display_name": "Python 3",
   "language": "python",
   "name": "python3"
  },
  "language_info": {
   "codemirror_mode": {
    "name": "ipython",
    "version": 3
   },
   "file_extension": ".py",
   "mimetype": "text/x-python",
   "name": "python",
   "nbconvert_exporter": "python",
   "pygments_lexer": "ipython3",
   "version": "3.8.3"
  }
 },
 "nbformat": 4,
 "nbformat_minor": 4
}
